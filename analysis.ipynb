{
 "cells": [
  {
   "cell_type": "code",
   "execution_count": 60,
   "metadata": {},
   "outputs": [],
   "source": [
    "import numpy as np\n",
    "import pandas as pd\n",
    "import cnn"
   ]
  },
  {
   "cell_type": "code",
   "execution_count": 61,
   "metadata": {
    "collapsed": true
   },
   "outputs": [],
   "source": [
    "df_train = pd.read_csv('data/dbpedia/train.csv.gz', header = None, names = ['class', 'title', 'body']).sample(100)\n",
    "df_test = pd.read_csv('data/dbpedia/test.csv.gz', header = None, names = ['class', 'title', 'body']).sample(100)"
   ]
  },
  {
   "cell_type": "code",
   "execution_count": 62,
   "metadata": {
    "scrolled": false
   },
   "outputs": [],
   "source": [
    "xtrain, ytrain, xtest, vocab, max_len, n_classes = cnn.preprocess(\n",
    "    df_train['body'].values, \n",
    "    df_train['class'].values, \n",
    "    df_test['body'].values, \n",
    "    max_len = 500)"
   ]
  },
  {
   "cell_type": "code",
   "execution_count": 63,
   "metadata": {},
   "outputs": [],
   "source": [
    "model = cnn.compiled(cnn.char_cnn(len(vocab), max_len, n_classes))"
   ]
  },
  {
   "cell_type": "code",
   "execution_count": 64,
   "metadata": {},
   "outputs": [
    {
     "name": "stdout",
     "output_type": "stream",
     "text": [
      "Train on 90 samples, validate on 10 samples\n",
      "Epoch 1/20\n",
      "Epoch 2/20\n",
      "Epoch 3/20\n",
      "Epoch 4/20\n",
      "Epoch 5/20\n",
      "Epoch 6/20\n",
      "Epoch 7/20\n",
      "Epoch 8/20\n",
      "Epoch 9/20\n",
      "Epoch 10/20\n",
      "Epoch 11/20\n",
      "Epoch 12/20\n",
      "Epoch 13/20\n",
      "Epoch 14/20\n",
      "Epoch 15/20\n",
      "Epoch 16/20\n",
      "Epoch 17/20\n",
      "Epoch 18/20\n",
      "Epoch 19/20\n",
      "Epoch 20/20\n"
     ]
    }
   ],
   "source": [
    "history = cnn.fit(model, xtrain, ytrain, callbacks)"
   ]
  },
  {
   "cell_type": "code",
   "execution_count": 67,
   "metadata": {},
   "outputs": [
    {
     "data": {
      "text/plain": [
       "{'acc': [0.04444444552063942,\n",
       "  0.077777780592441559,\n",
       "  0.10000000149011612,\n",
       "  0.15555556118488312,\n",
       "  0.23333333432674408,\n",
       "  0.12222222238779068,\n",
       "  0.17777778208255768,\n",
       "  0.1666666716337204,\n",
       "  0.1666666716337204,\n",
       "  0.15555556118488312,\n",
       "  0.1666666716337204,\n",
       "  0.20000000298023224,\n",
       "  0.17777778208255768,\n",
       "  0.18888889253139496,\n",
       "  0.18888889253139496,\n",
       "  0.1666666716337204,\n",
       "  0.24444444477558136,\n",
       "  0.2222222238779068,\n",
       "  0.26666668057441711,\n",
       "  0.25555557012557983],\n",
       " 'loss': [2.4093925952911377,\n",
       "  2.3833146095275879,\n",
       "  2.3276240825653076,\n",
       "  2.2923429012298584,\n",
       "  2.2042050361633301,\n",
       "  2.2365520000457764,\n",
       "  2.2155525684356689,\n",
       "  2.2208316326141357,\n",
       "  2.1984388828277588,\n",
       "  2.2144389152526855,\n",
       "  2.136120080947876,\n",
       "  2.1547310352325439,\n",
       "  2.1215498447418213,\n",
       "  2.050196647644043,\n",
       "  2.0384318828582764,\n",
       "  2.0928792953491211,\n",
       "  1.930497407913208,\n",
       "  1.8582402467727661,\n",
       "  1.9163655042648315,\n",
       "  1.842566967010498],\n",
       " 'val_acc': [0.20000000298023224,\n",
       "  0.0,\n",
       "  0.30000001192092896,\n",
       "  0.0,\n",
       "  0.0,\n",
       "  0.10000000149011612,\n",
       "  0.10000000149011612,\n",
       "  0.0,\n",
       "  0.0,\n",
       "  0.0,\n",
       "  0.0,\n",
       "  0.0,\n",
       "  0.0,\n",
       "  0.20000000298023224,\n",
       "  0.20000000298023224,\n",
       "  0.20000000298023224,\n",
       "  0.20000000298023224,\n",
       "  0.20000000298023224,\n",
       "  0.20000000298023224,\n",
       "  0.20000000298023224],\n",
       " 'val_loss': [2.3262603282928467,\n",
       "  2.1954665184020996,\n",
       "  2.1519114971160889,\n",
       "  2.2323164939880371,\n",
       "  2.3059585094451904,\n",
       "  2.3508400917053223,\n",
       "  2.3519196510314941,\n",
       "  2.3489117622375488,\n",
       "  2.3559529781341553,\n",
       "  2.3634684085845947,\n",
       "  2.4499776363372803,\n",
       "  2.4727482795715332,\n",
       "  2.4281446933746338,\n",
       "  2.4535021781921387,\n",
       "  2.4840941429138184,\n",
       "  2.4478487968444824,\n",
       "  2.6248431205749512,\n",
       "  3.0477912425994873,\n",
       "  2.8110582828521729,\n",
       "  2.6666369438171387]}"
      ]
     },
     "execution_count": 67,
     "metadata": {},
     "output_type": "execute_result"
    }
   ],
   "source": [
    "history.history"
   ]
  }
 ],
 "metadata": {
  "kernelspec": {
   "display_name": "Python 2",
   "language": "python",
   "name": "python2"
  },
  "language_info": {
   "codemirror_mode": {
    "name": "ipython",
    "version": 2
   },
   "file_extension": ".py",
   "mimetype": "text/x-python",
   "name": "python",
   "nbconvert_exporter": "python",
   "pygments_lexer": "ipython2",
   "version": "2.7.13"
  }
 },
 "nbformat": 4,
 "nbformat_minor": 2
}
